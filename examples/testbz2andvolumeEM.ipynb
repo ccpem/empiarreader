{
 "cells": [
  {
   "cell_type": "markdown",
   "metadata": {},
   "source": [
    "# Opening EMPIAR-10934 To Check tiff.bz2 Compatibility\n",
    "\n",
    "The EMPIARreader CLI can reach VolumeEM packages as these have EMPIAR data stored in the same ftp server as the cryoEM EMPIAR datasets. Also need to check tiff.bz2 (fractionated images) can be opened sensibly...\n",
    "\n",
    "This includes checking:\n",
    "\n",
    "* tiff (or tiff.bz2) files can be opened via the API (checking this with EM data and tiff.bz2 file)\n",
    "* how access to image-stacks works in the API\n",
    "* check the (detailed) format/object of these files once opened\n",
    "* figure out visualisation of them (in iypnb)\n",
    "* check mrc file of volumeEM data opens (from EMPIAR-10442)"
   ]
  },
  {
   "cell_type": "code",
   "execution_count": 2,
   "metadata": {},
   "outputs": [],
   "source": [
    "from empiarreader import EmpiarSource, EmpiarCatalog\n",
    "import matplotlib.pyplot as plt\n",
    "\n",
    "EM_entry = 10934"
   ]
  },
  {
   "cell_type": "code",
   "execution_count": 6,
   "metadata": {},
   "outputs": [
    {
     "data": {
      "text/plain": [
       "['Multiframe micrographs of human Pol κ complexed with monoubiquitylated PCNA and DNA']"
      ]
     },
     "execution_count": 6,
     "metadata": {},
     "output_type": "execute_result"
    }
   ],
   "source": [
    "test_catalog = EmpiarCatalog(EM_entry)\n",
    "list(test_catalog.keys())\n",
    "\n"
   ]
  },
  {
   "cell_type": "code",
   "execution_count": 7,
   "metadata": {},
   "outputs": [
    {
     "data": {
      "application/yaml": "\"Multiframe micrographs of human Pol \\u03BA complexed with monoubiquitylated PCNA and DNA\":\n  args:\n    directory: data/CL44-1_20201106_111915\n    empiar_index: 10934\n    imageset_metadata:\n      category: micrographs - multiframe\n      data_format: TIFF\n      details: \"The given pixel size accounts for super resolution binning 1 - the\\\n        \\ physical pixel size was 1.086 \\xC5/pix. Movies are non-gain normalised -\\\n        \\ gain reference included.\"\n      directory: data/CL44-1_20201106_111915\n      frame_range_max: null\n      frame_range_min: null\n      frames_per_image: 45\n      header_format: TIFF\n      image_height: '8184'\n      image_width: '11520'\n      micrographs_file_pattern: data/CL44-1_20201106_111915/Images-Disc1/GridSquare_*/Data/FoilHole_*_fractions.tiff.bz2\n      name: \"Multiframe micrographs of human Pol \\u03BA complexed with monoubiquitylated\\\n        \\ PCNA and DNA\"\n      num_images_or_tilt_series: 3889\n      picked_particles_directory: ''\n      picked_particles_file_pattern: ''\n      pixel_height: 0.543\n      pixel_width: 0.543\n      segmentations: []\n      voxel_type: UNSIGNED BYTE\n  description: \"The given pixel size accounts for super resolution binning 1 - the\\\n    \\ physical pixel size was 1.086 \\xC5/pix. Movies are non-gain normalised - gain\\\n    \\ reference included.\"\n  driver: empiarreader.empiar.empiar.EmpiarSource\n  metadata:\n    catalog_dir: ''\n",
      "text/plain": [
       "\"Multiframe micrographs of human Pol \\u03BA complexed with monoubiquitylated PCNA and DNA\":\n",
       "  args:\n",
       "    directory: data/CL44-1_20201106_111915\n",
       "    empiar_index: 10934\n",
       "    imageset_metadata:\n",
       "      category: micrographs - multiframe\n",
       "      data_format: TIFF\n",
       "      details: \"The given pixel size accounts for super resolution binning 1 - the\\\n",
       "        \\ physical pixel size was 1.086 \\xC5/pix. Movies are non-gain normalised -\\\n",
       "        \\ gain reference included.\"\n",
       "      directory: data/CL44-1_20201106_111915\n",
       "      frame_range_max: null\n",
       "      frame_range_min: null\n",
       "      frames_per_image: 45\n",
       "      header_format: TIFF\n",
       "      image_height: '8184'\n",
       "      image_width: '11520'\n",
       "      micrographs_file_pattern: data/CL44-1_20201106_111915/Images-Disc1/GridSquare_*/Data/FoilHole_*_fractions.tiff.bz2\n",
       "      name: \"Multiframe micrographs of human Pol \\u03BA complexed with monoubiquitylated\\\n",
       "        \\ PCNA and DNA\"\n",
       "      num_images_or_tilt_series: 3889\n",
       "      picked_particles_directory: ''\n",
       "      picked_particles_file_pattern: ''\n",
       "      pixel_height: 0.543\n",
       "      pixel_width: 0.543\n",
       "      segmentations: []\n",
       "      voxel_type: UNSIGNED BYTE\n",
       "  description: \"The given pixel size accounts for super resolution binning 1 - the\\\n",
       "    \\ physical pixel size was 1.086 \\xC5/pix. Movies are non-gain normalised - gain\\\n",
       "    \\ reference included.\"\n",
       "  driver: empiarreader.empiar.empiar.EmpiarSource\n",
       "  metadata:\n",
       "    catalog_dir: ''\n"
      ]
     },
     "metadata": {
      "application/json": {
       "root": "Multiframe micrographs of human Pol κ complexed with monoubiquitylated PCNA and DNA"
      }
     },
     "output_type": "display_data"
    }
   ],
   "source": [
    "test_catalog_dir = list(test_catalog.keys())[0]\n",
    "dataset_from_catalog = test_catalog[test_catalog_dir]\n",
    "dataset_from_catalog"
   ]
  },
  {
   "cell_type": "markdown",
   "metadata": {},
   "source": [
    "### Opening data from a specific directory"
   ]
  },
  {
   "cell_type": "code",
   "execution_count": 8,
   "metadata": {},
   "outputs": [],
   "source": [
    "test_directory = \"data/CL44-1_20201106_111915/Images-Disc1/GridSquare_6089277/Data\"\n",
    "wildcard_10934 = \"*003111*.tiff.bz2\""
   ]
  },
  {
   "cell_type": "code",
   "execution_count": 9,
   "metadata": {},
   "outputs": [
    {
     "data": {
      "application/yaml": "empiar:\n  args:\n    directory: data/CL44-1_20201106_111915/Images-Disc1/GridSquare_6089277/Data\n    empiar_index: 10934\n    filename: '*003111*.tiff.bz2'\n    regexp: false\n  description: ''\n  driver: empiarreader.empiar.empiar.EmpiarSource\n  metadata: {}\n",
      "text/plain": [
       "empiar:\n",
       "  args:\n",
       "    directory: data/CL44-1_20201106_111915/Images-Disc1/GridSquare_6089277/Data\n",
       "    empiar_index: 10934\n",
       "    filename: '*003111*.tiff.bz2'\n",
       "    regexp: false\n",
       "  description: ''\n",
       "  driver: empiarreader.empiar.empiar.EmpiarSource\n",
       "  metadata: {}\n"
      ]
     },
     "metadata": {
      "application/json": {
       "root": "empiar"
      }
     },
     "output_type": "display_data"
    }
   ],
   "source": [
    "ds = EmpiarSource(\n",
    "        EM_entry,\n",
    "        directory=test_directory,\n",
    "        filename=wildcard_10934,\n",
    "        regexp=False,\n",
    "    )\n",
    "\n",
    "ds"
   ]
  },
  {
   "cell_type": "code",
   "execution_count": 10,
   "metadata": {},
   "outputs": [
    {
     "ename": "ValueError",
     "evalue": "Could not find a backend to open `<File-like object HTTPFileSystem, https://ftp.ebi.ac.uk/empiar/world_availability/10934/data/CL44-1_20201106_111915/Images-Disc1/GridSquare_6089277/Data/FoilHole_6099219_Data_6093696_6093698_20201107_003111_fractions.tiff.bz2>`` with iomode `ri`.",
     "output_type": "error",
     "traceback": [
      "\u001b[0;31m---------------------------------------------------------------------------\u001b[0m",
      "\u001b[0;31mValueError\u001b[0m                                Traceback (most recent call last)",
      "Cell \u001b[0;32mIn[10], line 1\u001b[0m\n\u001b[0;32m----> 1\u001b[0m part \u001b[38;5;241m=\u001b[39m \u001b[43mds\u001b[49m\u001b[38;5;241;43m.\u001b[39;49m\u001b[43mread_partition\u001b[49m\u001b[43m(\u001b[49m\u001b[38;5;241;43m0\u001b[39;49m\u001b[43m)\u001b[49m\n\u001b[1;32m      2\u001b[0m part\n",
      "File \u001b[0;32m~/Software/empiarreader/src/empiarreader/empiar/empiar.py:220\u001b[0m, in \u001b[0;36mEmpiarSource.read_partition\u001b[0;34m(self, i)\u001b[0m\n\u001b[1;32m    214\u001b[0m \u001b[38;5;250m\u001b[39m\u001b[38;5;124;03m\"\"\" \" Reads an individual element of the dataset.\u001b[39;00m\n\u001b[1;32m    215\u001b[0m \n\u001b[1;32m    216\u001b[0m \u001b[38;5;124;03mArgs:\u001b[39;00m\n\u001b[1;32m    217\u001b[0m \u001b[38;5;124;03m    i (int): Position of the element in the dataset\"\"\"\u001b[39;00m\n\u001b[1;32m    218\u001b[0m \u001b[38;5;28mself\u001b[39m\u001b[38;5;241m.\u001b[39m_load_metadata()\n\u001b[0;32m--> 220\u001b[0m \u001b[38;5;28;01mreturn\u001b[39;00m \u001b[38;5;28;43mself\u001b[39;49m\u001b[38;5;241;43m.\u001b[39;49m\u001b[43m_datasource\u001b[49m\u001b[38;5;241;43m.\u001b[39;49m\u001b[43mread_partition\u001b[49m\u001b[43m(\u001b[49m\u001b[43mi\u001b[49m\u001b[43m)\u001b[49m\n",
      "File \u001b[0;32m~/miniconda3/envs/empiarreader/lib/python3.10/site-packages/intake_xarray/base.py:51\u001b[0m, in \u001b[0;36mDataSourceMixin.read_partition\u001b[0;34m(self, i)\u001b[0m\n\u001b[1;32m     48\u001b[0m \u001b[38;5;250m\u001b[39m\u001b[38;5;124;03m\"\"\"Fetch one chunk of data at tuple index i\u001b[39;00m\n\u001b[1;32m     49\u001b[0m \u001b[38;5;124;03m\"\"\"\u001b[39;00m\n\u001b[1;32m     50\u001b[0m \u001b[38;5;28;01mimport\u001b[39;00m \u001b[38;5;21;01mnumpy\u001b[39;00m \u001b[38;5;28;01mas\u001b[39;00m \u001b[38;5;21;01mnp\u001b[39;00m\n\u001b[0;32m---> 51\u001b[0m \u001b[38;5;28;43mself\u001b[39;49m\u001b[38;5;241;43m.\u001b[39;49m\u001b[43m_load_metadata\u001b[49m\u001b[43m(\u001b[49m\u001b[43m)\u001b[49m\n\u001b[1;32m     52\u001b[0m \u001b[38;5;28;01mif\u001b[39;00m \u001b[38;5;129;01mnot\u001b[39;00m \u001b[38;5;28misinstance\u001b[39m(i, (\u001b[38;5;28mtuple\u001b[39m, \u001b[38;5;28mlist\u001b[39m)):\n\u001b[1;32m     53\u001b[0m     \u001b[38;5;28;01mraise\u001b[39;00m \u001b[38;5;167;01mTypeError\u001b[39;00m(\u001b[38;5;124m'\u001b[39m\u001b[38;5;124mFor Xarray sources, must specify partition as \u001b[39m\u001b[38;5;124m'\u001b[39m\n\u001b[1;32m     54\u001b[0m                     \u001b[38;5;124m'\u001b[39m\u001b[38;5;124mtuple\u001b[39m\u001b[38;5;124m'\u001b[39m)\n",
      "File \u001b[0;32m~/miniconda3/envs/empiarreader/lib/python3.10/site-packages/intake/source/base.py:285\u001b[0m, in \u001b[0;36mDataSourceBase._load_metadata\u001b[0;34m(self)\u001b[0m\n\u001b[1;32m    283\u001b[0m \u001b[38;5;250m\u001b[39m\u001b[38;5;124;03m\"\"\"load metadata only if needed\"\"\"\u001b[39;00m\n\u001b[1;32m    284\u001b[0m \u001b[38;5;28;01mif\u001b[39;00m \u001b[38;5;28mself\u001b[39m\u001b[38;5;241m.\u001b[39m_schema \u001b[38;5;129;01mis\u001b[39;00m \u001b[38;5;28;01mNone\u001b[39;00m:\n\u001b[0;32m--> 285\u001b[0m     \u001b[38;5;28mself\u001b[39m\u001b[38;5;241m.\u001b[39m_schema \u001b[38;5;241m=\u001b[39m \u001b[38;5;28;43mself\u001b[39;49m\u001b[38;5;241;43m.\u001b[39;49m\u001b[43m_get_schema\u001b[49m\u001b[43m(\u001b[49m\u001b[43m)\u001b[49m\n\u001b[1;32m    286\u001b[0m     \u001b[38;5;28mself\u001b[39m\u001b[38;5;241m.\u001b[39mdtype \u001b[38;5;241m=\u001b[39m \u001b[38;5;28mself\u001b[39m\u001b[38;5;241m.\u001b[39m_schema\u001b[38;5;241m.\u001b[39mdtype\n\u001b[1;32m    287\u001b[0m     \u001b[38;5;28mself\u001b[39m\u001b[38;5;241m.\u001b[39mshape \u001b[38;5;241m=\u001b[39m \u001b[38;5;28mself\u001b[39m\u001b[38;5;241m.\u001b[39m_schema\u001b[38;5;241m.\u001b[39mshape\n",
      "File \u001b[0;32m~/miniconda3/envs/empiarreader/lib/python3.10/site-packages/intake_xarray/image.py:465\u001b[0m, in \u001b[0;36mImageSource._get_schema\u001b[0;34m(self)\u001b[0m\n\u001b[1;32m    462\u001b[0m \u001b[38;5;28mself\u001b[39m\u001b[38;5;241m.\u001b[39murlpath, \u001b[38;5;241m*\u001b[39m_ \u001b[38;5;241m=\u001b[39m \u001b[38;5;28mself\u001b[39m\u001b[38;5;241m.\u001b[39m_get_cache(\u001b[38;5;28mself\u001b[39m\u001b[38;5;241m.\u001b[39murlpath)\n\u001b[1;32m    464\u001b[0m \u001b[38;5;28;01mif\u001b[39;00m \u001b[38;5;28mself\u001b[39m\u001b[38;5;241m.\u001b[39m_ds \u001b[38;5;129;01mis\u001b[39;00m \u001b[38;5;28;01mNone\u001b[39;00m:\n\u001b[0;32m--> 465\u001b[0m     \u001b[38;5;28;43mself\u001b[39;49m\u001b[38;5;241;43m.\u001b[39;49m\u001b[43m_open_dataset\u001b[49m\u001b[43m(\u001b[49m\u001b[43m)\u001b[49m\n\u001b[1;32m    467\u001b[0m     \u001b[38;5;66;03m# coerce to dataset for serialization\u001b[39;00m\n\u001b[1;32m    468\u001b[0m     \u001b[38;5;28;01mif\u001b[39;00m \u001b[38;5;28misinstance\u001b[39m(\u001b[38;5;28mself\u001b[39m\u001b[38;5;241m.\u001b[39m_ds, xr\u001b[38;5;241m.\u001b[39mDataset):\n",
      "File \u001b[0;32m~/miniconda3/envs/empiarreader/lib/python3.10/site-packages/intake_xarray/image.py:450\u001b[0m, in \u001b[0;36mImageSource._open_dataset\u001b[0;34m(self)\u001b[0m\n\u001b[1;32m    448\u001b[0m     \u001b[38;5;28;01mraise\u001b[39;00m \u001b[38;5;167;01mException\u001b[39;00m(\u001b[38;5;124m\"\u001b[39m\u001b[38;5;124mNo files found at \u001b[39m\u001b[38;5;132;01m{}\u001b[39;00m\u001b[38;5;124m\"\u001b[39m\u001b[38;5;241m.\u001b[39mformat(\u001b[38;5;28mself\u001b[39m\u001b[38;5;241m.\u001b[39murlpath))\n\u001b[1;32m    449\u001b[0m \u001b[38;5;28;01mif\u001b[39;00m \u001b[38;5;28mlen\u001b[39m(files) \u001b[38;5;241m==\u001b[39m \u001b[38;5;241m1\u001b[39m:\n\u001b[0;32m--> 450\u001b[0m     \u001b[38;5;28mself\u001b[39m\u001b[38;5;241m.\u001b[39m_ds \u001b[38;5;241m=\u001b[39m \u001b[43mreader\u001b[49m\u001b[43m(\u001b[49m\n\u001b[1;32m    451\u001b[0m \u001b[43m        \u001b[49m\u001b[43mfiles\u001b[49m\u001b[43m[\u001b[49m\u001b[38;5;241;43m0\u001b[39;49m\u001b[43m]\u001b[49m\u001b[43m,\u001b[49m\u001b[43m \u001b[49m\u001b[38;5;28;43mself\u001b[39;49m\u001b[38;5;241;43m.\u001b[39;49m\u001b[43mchunks\u001b[49m\u001b[43m,\u001b[49m\u001b[43m \u001b[49m\u001b[43mexif_tags\u001b[49m\u001b[38;5;241;43m=\u001b[39;49m\u001b[38;5;28;43mself\u001b[39;49m\u001b[38;5;241;43m.\u001b[39;49m\u001b[43mexif_tags\u001b[49m\u001b[43m,\u001b[49m\u001b[43m \u001b[49m\u001b[38;5;241;43m*\u001b[39;49m\u001b[38;5;241;43m*\u001b[39;49m\u001b[38;5;28;43mself\u001b[39;49m\u001b[38;5;241;43m.\u001b[39;49m\u001b[43m_kwargs\u001b[49m\n\u001b[1;32m    452\u001b[0m \u001b[43m    \u001b[49m\u001b[43m)\u001b[49m\n\u001b[1;32m    453\u001b[0m \u001b[38;5;28;01melse\u001b[39;00m:\n\u001b[1;32m    454\u001b[0m     \u001b[38;5;28mself\u001b[39m\u001b[38;5;241m.\u001b[39m_ds \u001b[38;5;241m=\u001b[39m \u001b[38;5;28mself\u001b[39m\u001b[38;5;241m.\u001b[39m_open_files(files)\n",
      "File \u001b[0;32m~/miniconda3/envs/empiarreader/lib/python3.10/site-packages/intake_xarray/image.py:209\u001b[0m, in \u001b[0;36mreader\u001b[0;34m(file, chunks, imread, preprocess, coerce_shape, exif_tags)\u001b[0m\n\u001b[1;32m    206\u001b[0m     \u001b[38;5;28;01mfrom\u001b[39;00m \u001b[38;5;21;01mskimage\u001b[39;00m\u001b[38;5;21;01m.\u001b[39;00m\u001b[38;5;21;01mio\u001b[39;00m \u001b[38;5;28;01mimport\u001b[39;00m imread\n\u001b[1;32m    208\u001b[0m \u001b[38;5;28;01mwith\u001b[39;00m file \u001b[38;5;28;01mas\u001b[39;00m f:\n\u001b[0;32m--> 209\u001b[0m     array \u001b[38;5;241m=\u001b[39m \u001b[43mimread\u001b[49m\u001b[43m(\u001b[49m\u001b[43mf\u001b[49m\u001b[43m)\u001b[49m\n\u001b[1;32m    210\u001b[0m \u001b[38;5;28;01mif\u001b[39;00m coerce_shape \u001b[38;5;129;01mis\u001b[39;00m \u001b[38;5;129;01mnot\u001b[39;00m \u001b[38;5;28;01mNone\u001b[39;00m:\n\u001b[1;32m    211\u001b[0m     array \u001b[38;5;241m=\u001b[39m _coerce_shape(sample, shape\u001b[38;5;241m=\u001b[39mcoerce_shape)\n",
      "File \u001b[0;32m~/miniconda3/envs/empiarreader/lib/python3.10/site-packages/skimage/io/_io.py:53\u001b[0m, in \u001b[0;36mimread\u001b[0;34m(fname, as_gray, plugin, **plugin_args)\u001b[0m\n\u001b[1;32m     50\u001b[0m         plugin \u001b[38;5;241m=\u001b[39m \u001b[38;5;124m'\u001b[39m\u001b[38;5;124mtifffile\u001b[39m\u001b[38;5;124m'\u001b[39m\n\u001b[1;32m     52\u001b[0m \u001b[38;5;28;01mwith\u001b[39;00m file_or_url_context(fname) \u001b[38;5;28;01mas\u001b[39;00m fname:\n\u001b[0;32m---> 53\u001b[0m     img \u001b[38;5;241m=\u001b[39m \u001b[43mcall_plugin\u001b[49m\u001b[43m(\u001b[49m\u001b[38;5;124;43m'\u001b[39;49m\u001b[38;5;124;43mimread\u001b[39;49m\u001b[38;5;124;43m'\u001b[39;49m\u001b[43m,\u001b[49m\u001b[43m \u001b[49m\u001b[43mfname\u001b[49m\u001b[43m,\u001b[49m\u001b[43m \u001b[49m\u001b[43mplugin\u001b[49m\u001b[38;5;241;43m=\u001b[39;49m\u001b[43mplugin\u001b[49m\u001b[43m,\u001b[49m\u001b[43m \u001b[49m\u001b[38;5;241;43m*\u001b[39;49m\u001b[38;5;241;43m*\u001b[39;49m\u001b[43mplugin_args\u001b[49m\u001b[43m)\u001b[49m\n\u001b[1;32m     55\u001b[0m \u001b[38;5;28;01mif\u001b[39;00m \u001b[38;5;129;01mnot\u001b[39;00m \u001b[38;5;28mhasattr\u001b[39m(img, \u001b[38;5;124m'\u001b[39m\u001b[38;5;124mndim\u001b[39m\u001b[38;5;124m'\u001b[39m):\n\u001b[1;32m     56\u001b[0m     \u001b[38;5;28;01mreturn\u001b[39;00m img\n",
      "File \u001b[0;32m~/miniconda3/envs/empiarreader/lib/python3.10/site-packages/skimage/io/manage_plugins.py:207\u001b[0m, in \u001b[0;36mcall_plugin\u001b[0;34m(kind, *args, **kwargs)\u001b[0m\n\u001b[1;32m    203\u001b[0m     \u001b[38;5;28;01mexcept\u001b[39;00m \u001b[38;5;167;01mIndexError\u001b[39;00m:\n\u001b[1;32m    204\u001b[0m         \u001b[38;5;28;01mraise\u001b[39;00m \u001b[38;5;167;01mRuntimeError\u001b[39;00m(\u001b[38;5;124m'\u001b[39m\u001b[38;5;124mCould not find the plugin \u001b[39m\u001b[38;5;124m\"\u001b[39m\u001b[38;5;132;01m%s\u001b[39;00m\u001b[38;5;124m\"\u001b[39m\u001b[38;5;124m for \u001b[39m\u001b[38;5;132;01m%s\u001b[39;00m\u001b[38;5;124m.\u001b[39m\u001b[38;5;124m'\u001b[39m \u001b[38;5;241m%\u001b[39m\n\u001b[1;32m    205\u001b[0m                            (plugin, kind))\n\u001b[0;32m--> 207\u001b[0m \u001b[38;5;28;01mreturn\u001b[39;00m \u001b[43mfunc\u001b[49m\u001b[43m(\u001b[49m\u001b[38;5;241;43m*\u001b[39;49m\u001b[43margs\u001b[49m\u001b[43m,\u001b[49m\u001b[43m \u001b[49m\u001b[38;5;241;43m*\u001b[39;49m\u001b[38;5;241;43m*\u001b[39;49m\u001b[43mkwargs\u001b[49m\u001b[43m)\u001b[49m\n",
      "File \u001b[0;32m~/miniconda3/envs/empiarreader/lib/python3.10/site-packages/skimage/io/_plugins/imageio_plugin.py:15\u001b[0m, in \u001b[0;36mimread\u001b[0;34m(*args, **kwargs)\u001b[0m\n\u001b[1;32m     13\u001b[0m \u001b[38;5;129m@wraps\u001b[39m(imageio_imread)\n\u001b[1;32m     14\u001b[0m \u001b[38;5;28;01mdef\u001b[39;00m \u001b[38;5;21mimread\u001b[39m(\u001b[38;5;241m*\u001b[39margs, \u001b[38;5;241m*\u001b[39m\u001b[38;5;241m*\u001b[39mkwargs):\n\u001b[0;32m---> 15\u001b[0m     \u001b[38;5;28;01mreturn\u001b[39;00m np\u001b[38;5;241m.\u001b[39masarray(\u001b[43mimageio_imread\u001b[49m\u001b[43m(\u001b[49m\u001b[38;5;241;43m*\u001b[39;49m\u001b[43margs\u001b[49m\u001b[43m,\u001b[49m\u001b[43m \u001b[49m\u001b[38;5;241;43m*\u001b[39;49m\u001b[38;5;241;43m*\u001b[39;49m\u001b[43mkwargs\u001b[49m\u001b[43m)\u001b[49m)\n",
      "File \u001b[0;32m~/miniconda3/envs/empiarreader/lib/python3.10/site-packages/imageio/v2.py:200\u001b[0m, in \u001b[0;36mimread\u001b[0;34m(uri, format, **kwargs)\u001b[0m\n\u001b[1;32m    197\u001b[0m imopen_args \u001b[38;5;241m=\u001b[39m decypher_format_arg(\u001b[38;5;28mformat\u001b[39m)\n\u001b[1;32m    198\u001b[0m imopen_args[\u001b[38;5;124m\"\u001b[39m\u001b[38;5;124mlegacy_mode\u001b[39m\u001b[38;5;124m\"\u001b[39m] \u001b[38;5;241m=\u001b[39m \u001b[38;5;28;01mTrue\u001b[39;00m\n\u001b[0;32m--> 200\u001b[0m \u001b[38;5;28;01mwith\u001b[39;00m \u001b[43mimopen\u001b[49m\u001b[43m(\u001b[49m\u001b[43muri\u001b[49m\u001b[43m,\u001b[49m\u001b[43m \u001b[49m\u001b[38;5;124;43m\"\u001b[39;49m\u001b[38;5;124;43mri\u001b[39;49m\u001b[38;5;124;43m\"\u001b[39;49m\u001b[43m,\u001b[49m\u001b[43m \u001b[49m\u001b[38;5;241;43m*\u001b[39;49m\u001b[38;5;241;43m*\u001b[39;49m\u001b[43mimopen_args\u001b[49m\u001b[43m)\u001b[49m \u001b[38;5;28;01mas\u001b[39;00m file:\n\u001b[1;32m    201\u001b[0m     \u001b[38;5;28;01mreturn\u001b[39;00m file\u001b[38;5;241m.\u001b[39mread(index\u001b[38;5;241m=\u001b[39m\u001b[38;5;241m0\u001b[39m, \u001b[38;5;241m*\u001b[39m\u001b[38;5;241m*\u001b[39mkwargs)\n",
      "File \u001b[0;32m~/miniconda3/envs/empiarreader/lib/python3.10/site-packages/imageio/core/imopen.py:303\u001b[0m, in \u001b[0;36mimopen\u001b[0;34m(uri, io_mode, plugin, extension, format_hint, legacy_mode, **kwargs)\u001b[0m\n\u001b[1;32m    297\u001b[0m         err_msg \u001b[38;5;241m+\u001b[39m\u001b[38;5;241m=\u001b[39m (\n\u001b[1;32m    298\u001b[0m             \u001b[38;5;124m\"\u001b[39m\u001b[38;5;130;01m\\n\u001b[39;00m\u001b[38;5;124mBased on the extension, the following plugins might add capable backends:\u001b[39m\u001b[38;5;130;01m\\n\u001b[39;00m\u001b[38;5;124m\"\u001b[39m\n\u001b[1;32m    299\u001b[0m             \u001b[38;5;124mf\u001b[39m\u001b[38;5;124m\"\u001b[39m\u001b[38;5;132;01m{\u001b[39;00minstall_candidates\u001b[38;5;132;01m}\u001b[39;00m\u001b[38;5;124m\"\u001b[39m\n\u001b[1;32m    300\u001b[0m         )\n\u001b[1;32m    302\u001b[0m request\u001b[38;5;241m.\u001b[39mfinish()\n\u001b[0;32m--> 303\u001b[0m \u001b[38;5;28;01mraise\u001b[39;00m err_type(err_msg)\n",
      "\u001b[0;31mValueError\u001b[0m: Could not find a backend to open `<File-like object HTTPFileSystem, https://ftp.ebi.ac.uk/empiar/world_availability/10934/data/CL44-1_20201106_111915/Images-Disc1/GridSquare_6089277/Data/FoilHole_6099219_Data_6093696_6093698_20201107_003111_fractions.tiff.bz2>`` with iomode `ri`."
     ]
    }
   ],
   "source": [
    "part = ds.read_partition(0)\n",
    "part"
   ]
  },
  {
   "cell_type": "code",
   "execution_count": null,
   "metadata": {},
   "outputs": [],
   "source": [
    "title = \"Images from EMPIAR-\"+str(test_entry)\n",
    "plt.figure(figsize=(16, 12))\n",
    "plt.suptitle(title, fontsize=15)\n",
    "\n",
    "for i in range(4):\n",
    "    part = ds.read_partition(i)\n",
    "    image_part = part.data\n",
    "    ax = plt.subplot(2, 2, i+1)\n",
    "\n",
    "    plt.imshow(\n",
    "        image_part,cmap='gray',\n",
    "    )\n",
    "    ax.set_title(\"Image \"+str(i))\n",
    "    ax.axis(\"off\")\n",
    "    ax.set_xlabel(\"\")"
   ]
  },
  {
   "cell_type": "markdown",
   "metadata": {},
   "source": [
    "### Looks like intake can't decode tiff.bz2 files\n",
    "\n",
    "So lets try .tif format files instead"
   ]
  },
  {
   "cell_type": "code",
   "execution_count": 1,
   "metadata": {},
   "outputs": [],
   "source": [
    "tif_entry = 10943"
   ]
  },
  {
   "cell_type": "code",
   "execution_count": 3,
   "metadata": {},
   "outputs": [
    {
     "data": {
      "text/plain": [
       "['Unaligned multi-frame movies in Tiff: Dataset 2']"
      ]
     },
     "execution_count": 3,
     "metadata": {},
     "output_type": "execute_result"
    }
   ],
   "source": [
    "test_catalog_tif = EmpiarCatalog(tif_entry)\n",
    "list(test_catalog_tif.keys())"
   ]
  },
  {
   "cell_type": "code",
   "execution_count": 4,
   "metadata": {},
   "outputs": [
    {
     "data": {
      "application/yaml": "'Unaligned multi-frame movies in Tiff: Dataset 2':\n  args:\n    directory: data/Tiff\n    empiar_index: 10943\n    imageset_metadata:\n      category: micrographs - multiframe\n      data_format: TIFF\n      details: \"Movies were collected in EER format and converted into tiff using\\\n        \\ relion_convert_to_tiff grouping frames by 34 giving a dose of 0.98 e/\\xC5\\\n        ^2. Please see additional files for complete processing pipeline.\"\n      directory: data/Tiff\n      frame_range_max: null\n      frame_range_min: null\n      frames_per_image: 34\n      header_format: TIFF\n      image_height: null\n      image_width: null\n      micrographs_file_pattern: ''\n      name: 'Unaligned multi-frame movies in Tiff: Dataset 2'\n      num_images_or_tilt_series: 4000\n      picked_particles_directory: ''\n      picked_particles_file_pattern: ''\n      pixel_height: 0.824\n      pixel_width: 0.824\n      segmentations: []\n      voxel_type: UNSIGNED BYTE\n  description: \"Movies were collected in EER format and converted into tiff using\\\n    \\ relion_convert_to_tiff grouping frames by 34 giving a dose of 0.98 e/\\xC5^2.\\\n    \\ Please see additional files for complete processing pipeline.\"\n  driver: empiarreader.empiar.empiar.EmpiarSource\n  metadata:\n    catalog_dir: ''\n",
      "text/plain": [
       "'Unaligned multi-frame movies in Tiff: Dataset 2':\n",
       "  args:\n",
       "    directory: data/Tiff\n",
       "    empiar_index: 10943\n",
       "    imageset_metadata:\n",
       "      category: micrographs - multiframe\n",
       "      data_format: TIFF\n",
       "      details: \"Movies were collected in EER format and converted into tiff using\\\n",
       "        \\ relion_convert_to_tiff grouping frames by 34 giving a dose of 0.98 e/\\xC5\\\n",
       "        ^2. Please see additional files for complete processing pipeline.\"\n",
       "      directory: data/Tiff\n",
       "      frame_range_max: null\n",
       "      frame_range_min: null\n",
       "      frames_per_image: 34\n",
       "      header_format: TIFF\n",
       "      image_height: null\n",
       "      image_width: null\n",
       "      micrographs_file_pattern: ''\n",
       "      name: 'Unaligned multi-frame movies in Tiff: Dataset 2'\n",
       "      num_images_or_tilt_series: 4000\n",
       "      picked_particles_directory: ''\n",
       "      picked_particles_file_pattern: ''\n",
       "      pixel_height: 0.824\n",
       "      pixel_width: 0.824\n",
       "      segmentations: []\n",
       "      voxel_type: UNSIGNED BYTE\n",
       "  description: \"Movies were collected in EER format and converted into tiff using\\\n",
       "    \\ relion_convert_to_tiff grouping frames by 34 giving a dose of 0.98 e/\\xC5^2.\\\n",
       "    \\ Please see additional files for complete processing pipeline.\"\n",
       "  driver: empiarreader.empiar.empiar.EmpiarSource\n",
       "  metadata:\n",
       "    catalog_dir: ''\n"
      ]
     },
     "metadata": {
      "application/json": {
       "root": "Unaligned multi-frame movies in Tiff: Dataset 2"
      }
     },
     "output_type": "display_data"
    }
   ],
   "source": [
    "test_catalog_dir_tif = list(test_catalog_tif.keys())[0]\n",
    "dataset_from_catalog_tif = test_catalog_tif[test_catalog_dir_tif]\n",
    "dataset_from_catalog_tif"
   ]
  },
  {
   "cell_type": "code",
   "execution_count": 5,
   "metadata": {},
   "outputs": [],
   "source": [
    "test_directory_tif = \"data/Tiff/EER/Images-Disc1/GridSquare_11149061/Data\"\n",
    "wildcard_10943 = \"*20210911_233708_EER.tif\"\n",
    "# wildcard_10943 = \"*\""
   ]
  },
  {
   "cell_type": "code",
   "execution_count": 6,
   "metadata": {},
   "outputs": [
    {
     "data": {
      "application/yaml": "empiar:\n  args:\n    directory: data/Tiff/EER/Images-Disc1/GridSquare_11149061/Data\n    empiar_index: 10943\n    filename: '*20210911_233708_EER.tif'\n    regexp: false\n  description: ''\n  driver: empiarreader.empiar.empiar.EmpiarSource\n  metadata: {}\n",
      "text/plain": [
       "empiar:\n",
       "  args:\n",
       "    directory: data/Tiff/EER/Images-Disc1/GridSquare_11149061/Data\n",
       "    empiar_index: 10943\n",
       "    filename: '*20210911_233708_EER.tif'\n",
       "    regexp: false\n",
       "  description: ''\n",
       "  driver: empiarreader.empiar.empiar.EmpiarSource\n",
       "  metadata: {}\n"
      ]
     },
     "metadata": {
      "application/json": {
       "root": "empiar"
      }
     },
     "output_type": "display_data"
    }
   ],
   "source": [
    "ds_tif = EmpiarSource(\n",
    "        tif_entry,\n",
    "        directory=test_directory_tif,\n",
    "        filename=wildcard_10943,\n",
    "        regexp=False,\n",
    "    )\n",
    "\n",
    "ds_tif"
   ]
  },
  {
   "cell_type": "code",
   "execution_count": 7,
   "metadata": {},
   "outputs": [
    {
     "name": "stderr",
     "output_type": "stream",
     "text": [
      "/home/jg/miniconda3/envs/empiarreader/lib/python3.10/site-packages/xarray/core/dataarray.py:1285: FutureWarning: None value for 'chunks' is deprecated. It will raise an error in the future. Use instead '{}'\n",
      "  warnings.warn(\n"
     ]
    },
    {
     "ename": "TypeError",
     "evalue": "For Xarray sources, must specify partition as tuple",
     "output_type": "error",
     "traceback": [
      "\u001b[0;31m---------------------------------------------------------------------------\u001b[0m",
      "\u001b[0;31mTypeError\u001b[0m                                 Traceback (most recent call last)",
      "Cell \u001b[0;32mIn[7], line 1\u001b[0m\n\u001b[0;32m----> 1\u001b[0m part_tif \u001b[38;5;241m=\u001b[39m \u001b[43mds_tif\u001b[49m\u001b[38;5;241;43m.\u001b[39;49m\u001b[43mread_partition\u001b[49m\u001b[43m(\u001b[49m\u001b[38;5;241;43m0\u001b[39;49m\u001b[43m)\u001b[49m\n\u001b[1;32m      2\u001b[0m part_tif\n",
      "File \u001b[0;32m~/Software/empiarreader/src/empiarreader/empiar/empiar.py:220\u001b[0m, in \u001b[0;36mEmpiarSource.read_partition\u001b[0;34m(self, i)\u001b[0m\n\u001b[1;32m    214\u001b[0m \u001b[38;5;250m\u001b[39m\u001b[38;5;124;03m\"\"\" \" Reads an individual element of the dataset.\u001b[39;00m\n\u001b[1;32m    215\u001b[0m \n\u001b[1;32m    216\u001b[0m \u001b[38;5;124;03mArgs:\u001b[39;00m\n\u001b[1;32m    217\u001b[0m \u001b[38;5;124;03m    i (int): Position of the element in the dataset\"\"\"\u001b[39;00m\n\u001b[1;32m    218\u001b[0m \u001b[38;5;28mself\u001b[39m\u001b[38;5;241m.\u001b[39m_load_metadata()\n\u001b[0;32m--> 220\u001b[0m \u001b[38;5;28;01mreturn\u001b[39;00m \u001b[38;5;28;43mself\u001b[39;49m\u001b[38;5;241;43m.\u001b[39;49m\u001b[43m_datasource\u001b[49m\u001b[38;5;241;43m.\u001b[39;49m\u001b[43mread_partition\u001b[49m\u001b[43m(\u001b[49m\u001b[43mi\u001b[49m\u001b[43m)\u001b[49m\n",
      "File \u001b[0;32m~/miniconda3/envs/empiarreader/lib/python3.10/site-packages/intake_xarray/base.py:53\u001b[0m, in \u001b[0;36mDataSourceMixin.read_partition\u001b[0;34m(self, i)\u001b[0m\n\u001b[1;32m     51\u001b[0m \u001b[38;5;28mself\u001b[39m\u001b[38;5;241m.\u001b[39m_load_metadata()\n\u001b[1;32m     52\u001b[0m \u001b[38;5;28;01mif\u001b[39;00m \u001b[38;5;129;01mnot\u001b[39;00m \u001b[38;5;28misinstance\u001b[39m(i, (\u001b[38;5;28mtuple\u001b[39m, \u001b[38;5;28mlist\u001b[39m)):\n\u001b[0;32m---> 53\u001b[0m     \u001b[38;5;28;01mraise\u001b[39;00m \u001b[38;5;167;01mTypeError\u001b[39;00m(\u001b[38;5;124m'\u001b[39m\u001b[38;5;124mFor Xarray sources, must specify partition as \u001b[39m\u001b[38;5;124m'\u001b[39m\n\u001b[1;32m     54\u001b[0m                     \u001b[38;5;124m'\u001b[39m\u001b[38;5;124mtuple\u001b[39m\u001b[38;5;124m'\u001b[39m)\n\u001b[1;32m     55\u001b[0m \u001b[38;5;28;01mif\u001b[39;00m \u001b[38;5;28misinstance\u001b[39m(i, \u001b[38;5;28mlist\u001b[39m):\n\u001b[1;32m     56\u001b[0m     i \u001b[38;5;241m=\u001b[39m \u001b[38;5;28mtuple\u001b[39m(i)\n",
      "\u001b[0;31mTypeError\u001b[0m: For Xarray sources, must specify partition as tuple"
     ]
    }
   ],
   "source": [
    "part_tif = ds_tif.read_partition(0)\n",
    "part_tif"
   ]
  },
  {
   "cell_type": "code",
   "execution_count": null,
   "metadata": {},
   "outputs": [],
   "source": [
    "title_tif = \"Images from EMPIAR-\"+str(tif_entry)\n",
    "plt.figure(figsize=(16, 12))\n",
    "plt.suptitle(title, fontsize=15)\n",
    "\n",
    "for i in range(4):\n",
    "    part_tif = ds_tif.read_partition(i)\n",
    "    image_part_tif = part_tif.data\n",
    "    ax = plt.subplot(2, 2, i+1)\n",
    "\n",
    "    plt.imshow(\n",
    "        image_part,cmap='gray',\n",
    "    )\n",
    "    ax.set_title(\"Image \"+str(i))\n",
    "    ax.axis(\"off\")\n",
    "    ax.set_xlabel(\"\")"
   ]
  },
  {
   "cell_type": "markdown",
   "metadata": {},
   "source": [
    "## Checking volumeEM (mrc) data opens okay\n",
    "\n",
    "EMPIAR entry 10442 with file \"data/MRC_Files/*278-307um.mrc\"\n",
    "\n",
    "(full https version of ftp path: \"https://ftp.ebi.ac.uk/empiar/world_availability/10442/data/MRC_Files/*278-307um.mrc\")"
   ]
  },
  {
   "cell_type": "code",
   "execution_count": 8,
   "metadata": {},
   "outputs": [],
   "source": [
    "vem_entry = 10442"
   ]
  },
  {
   "cell_type": "code",
   "execution_count": 9,
   "metadata": {},
   "outputs": [
    {
     "data": {
      "text/plain": [
       "['Sieve element cells of Arabidopsis thaliana roots']"
      ]
     },
     "execution_count": 9,
     "metadata": {},
     "output_type": "execute_result"
    }
   ],
   "source": [
    "test_catalog_vem = EmpiarCatalog(vem_entry)\n",
    "list(test_catalog_vem.keys())"
   ]
  },
  {
   "cell_type": "code",
   "execution_count": 10,
   "metadata": {},
   "outputs": [
    {
     "data": {
      "application/yaml": "Sieve element cells of Arabidopsis thaliana roots:\n  args:\n    directory: data/MRC_Files\n    empiar_index: 10442\n    imageset_metadata:\n      category: micrographs - multiframe\n      data_format: MRC\n      details: \"Processed datasets: image processing was done in Microscopy Image\\\n        \\ Browser and included adjustment of contrast, alignment and calibration.\\\n        \\ The bounding box coordinates represent position of the dataset relative\\\n        \\ to the tip of the root\\n\\nDataset: 180130_PLM_SE_up_278-307um.am\\nVoxel\\\n        \\ size: 0.010 x 0.01 x 0.04 um \\nBoundingBox -161.23100 -135.28000 -327.25700\\\n        \\ -309.95700 278.23500 306.23500\\nMIB(1802021310): Aligned using Drift correction;\\\n        \\ relative to 0\\nMIB(1802021312): Aligned using Single landmark point; relative\\\n        \\ to 0\\nMIB(1802021316): ImCrop: [x1 y1 dx dy z1 dz t1 dt]: [183   462  2596\\\n        \\  1731     1   717     1     1]\\nMIB(1802021319): Normalize contrast, mode:\\\n        \\ mask, Ch: 1\\nMIB(1802021320): ContrastGamma: Min:28724.6413, Max: 45826.6123,\\\n        \\ Gamma: 1\\nMIB(1802021320): Converted to from uint16 to uint8\"\n      directory: data/MRC_Files\n      frame_range_max: 717\n      frame_range_min: 1\n      frames_per_image: 717\n      header_format: MRC\n      image_height: '1731'\n      image_width: '2596'\n      micrographs_file_pattern: ''\n      name: Sieve element cells of Arabidopsis thaliana roots\n      num_images_or_tilt_series: 1\n      picked_particles_directory: ''\n      picked_particles_file_pattern: ''\n      pixel_height: 100.0\n      pixel_width: 100.0\n      segmentations: []\n      voxel_type: UNSIGNED BYTE\n  description: \"Processed datasets: image processing was done in Microscopy Image\\\n    \\ Browser and included adjustment of contrast, alignment and calibration. The\\\n    \\ bounding box coordinates represent position of the dataset relative to the tip\\\n    \\ of the root\\n\\nDataset: 180130_PLM_SE_up_278-307um.am\\nVoxel size: 0.010 x 0.01\\\n    \\ x 0.04 um \\nBoundingBox -161.23100 -135.28000 -327.25700 -309.95700 278.23500\\\n    \\ 306.23500\\nMIB(1802021310): Aligned using Drift correction; relative to 0\\n\\\n    MIB(1802021312): Aligned using Single landmark point; relative to 0\\nMIB(1802021316):\\\n    \\ ImCrop: [x1 y1 dx dy z1 dz t1 dt]: [183   462  2596  1731     1   717     1\\\n    \\     1]\\nMIB(1802021319): Normalize contrast, mode: mask, Ch: 1\\nMIB(1802021320):\\\n    \\ ContrastGamma: Min:28724.6413, Max: 45826.6123, Gamma: 1\\nMIB(1802021320): Converted\\\n    \\ to from uint16 to uint8\"\n  driver: empiarreader.empiar.empiar.EmpiarSource\n  metadata:\n    catalog_dir: ''\n",
      "text/plain": [
       "Sieve element cells of Arabidopsis thaliana roots:\n",
       "  args:\n",
       "    directory: data/MRC_Files\n",
       "    empiar_index: 10442\n",
       "    imageset_metadata:\n",
       "      category: micrographs - multiframe\n",
       "      data_format: MRC\n",
       "      details: \"Processed datasets: image processing was done in Microscopy Image\\\n",
       "        \\ Browser and included adjustment of contrast, alignment and calibration.\\\n",
       "        \\ The bounding box coordinates represent position of the dataset relative\\\n",
       "        \\ to the tip of the root\\n\\nDataset: 180130_PLM_SE_up_278-307um.am\\nVoxel\\\n",
       "        \\ size: 0.010 x 0.01 x 0.04 um \\nBoundingBox -161.23100 -135.28000 -327.25700\\\n",
       "        \\ -309.95700 278.23500 306.23500\\nMIB(1802021310): Aligned using Drift correction;\\\n",
       "        \\ relative to 0\\nMIB(1802021312): Aligned using Single landmark point; relative\\\n",
       "        \\ to 0\\nMIB(1802021316): ImCrop: [x1 y1 dx dy z1 dz t1 dt]: [183   462  2596\\\n",
       "        \\  1731     1   717     1     1]\\nMIB(1802021319): Normalize contrast, mode:\\\n",
       "        \\ mask, Ch: 1\\nMIB(1802021320): ContrastGamma: Min:28724.6413, Max: 45826.6123,\\\n",
       "        \\ Gamma: 1\\nMIB(1802021320): Converted to from uint16 to uint8\"\n",
       "      directory: data/MRC_Files\n",
       "      frame_range_max: 717\n",
       "      frame_range_min: 1\n",
       "      frames_per_image: 717\n",
       "      header_format: MRC\n",
       "      image_height: '1731'\n",
       "      image_width: '2596'\n",
       "      micrographs_file_pattern: ''\n",
       "      name: Sieve element cells of Arabidopsis thaliana roots\n",
       "      num_images_or_tilt_series: 1\n",
       "      picked_particles_directory: ''\n",
       "      picked_particles_file_pattern: ''\n",
       "      pixel_height: 100.0\n",
       "      pixel_width: 100.0\n",
       "      segmentations: []\n",
       "      voxel_type: UNSIGNED BYTE\n",
       "  description: \"Processed datasets: image processing was done in Microscopy Image\\\n",
       "    \\ Browser and included adjustment of contrast, alignment and calibration. The\\\n",
       "    \\ bounding box coordinates represent position of the dataset relative to the tip\\\n",
       "    \\ of the root\\n\\nDataset: 180130_PLM_SE_up_278-307um.am\\nVoxel size: 0.010 x 0.01\\\n",
       "    \\ x 0.04 um \\nBoundingBox -161.23100 -135.28000 -327.25700 -309.95700 278.23500\\\n",
       "    \\ 306.23500\\nMIB(1802021310): Aligned using Drift correction; relative to 0\\n\\\n",
       "    MIB(1802021312): Aligned using Single landmark point; relative to 0\\nMIB(1802021316):\\\n",
       "    \\ ImCrop: [x1 y1 dx dy z1 dz t1 dt]: [183   462  2596  1731     1   717     1\\\n",
       "    \\     1]\\nMIB(1802021319): Normalize contrast, mode: mask, Ch: 1\\nMIB(1802021320):\\\n",
       "    \\ ContrastGamma: Min:28724.6413, Max: 45826.6123, Gamma: 1\\nMIB(1802021320): Converted\\\n",
       "    \\ to from uint16 to uint8\"\n",
       "  driver: empiarreader.empiar.empiar.EmpiarSource\n",
       "  metadata:\n",
       "    catalog_dir: ''\n"
      ]
     },
     "metadata": {
      "application/json": {
       "root": "Sieve element cells of Arabidopsis thaliana roots"
      }
     },
     "output_type": "display_data"
    }
   ],
   "source": [
    "test_catalog_dir_vem = list(test_catalog_vem.keys())[0]\n",
    "dataset_from_catalog_vem = test_catalog_vem[test_catalog_dir_vem]\n",
    "dataset_from_catalog_vem"
   ]
  },
  {
   "cell_type": "code",
   "execution_count": 11,
   "metadata": {},
   "outputs": [],
   "source": [
    "test_directory_vem = \"data/MRC_Files\"\n",
    "wildcard_10442 = \"*278-307um.mrc\""
   ]
  },
  {
   "cell_type": "code",
   "execution_count": 12,
   "metadata": {},
   "outputs": [
    {
     "data": {
      "application/yaml": "empiar:\n  args:\n    directory: data/MRC_Files\n    empiar_index: 10442\n    filename: '*278-307um.mrc'\n    regexp: false\n  description: ''\n  driver: empiarreader.empiar.empiar.EmpiarSource\n  metadata: {}\n",
      "text/plain": [
       "empiar:\n",
       "  args:\n",
       "    directory: data/MRC_Files\n",
       "    empiar_index: 10442\n",
       "    filename: '*278-307um.mrc'\n",
       "    regexp: false\n",
       "  description: ''\n",
       "  driver: empiarreader.empiar.empiar.EmpiarSource\n",
       "  metadata: {}\n"
      ]
     },
     "metadata": {
      "application/json": {
       "root": "empiar"
      }
     },
     "output_type": "display_data"
    }
   ],
   "source": [
    "ds_vem = EmpiarSource(\n",
    "        vem_entry,\n",
    "        directory=test_directory_vem,\n",
    "        filename=wildcard_10442,\n",
    "        regexp=False,\n",
    "    )\n",
    "\n",
    "ds_vem"
   ]
  },
  {
   "cell_type": "code",
   "execution_count": 13,
   "metadata": {},
   "outputs": [
    {
     "ename": "",
     "evalue": "",
     "output_type": "error",
     "traceback": [
      "\u001b[1;31mThe Kernel crashed while executing code in the current cell or a previous cell. \n",
      "\u001b[1;31mPlease review the code in the cell(s) to identify a possible cause of the failure. \n",
      "\u001b[1;31mClick <a href='https://aka.ms/vscodeJupyterKernelCrash'>here</a> for more info. \n",
      "\u001b[1;31mView Jupyter <a href='command:jupyter.viewOutput'>log</a> for further details."
     ]
    }
   ],
   "source": [
    "part_vem = ds_vem.read_partition(0)\n",
    "part_vem"
   ]
  },
  {
   "cell_type": "code",
   "execution_count": null,
   "metadata": {},
   "outputs": [],
   "source": [
    "title_vem = \"Images from EMPIAR-\"+str(vem_entry)\n",
    "plt.figure(figsize=(16, 12))\n",
    "plt.suptitle(title, fontsize=15)\n",
    "\n",
    "for i in range(1):\n",
    "    part_vem = ds_vem.read_partition(i)\n",
    "    image_part_vem = part_vem.data\n",
    "    ax = plt.subplot(1, 1, i+1)\n",
    "\n",
    "    plt.imshow(\n",
    "        image_part,cmap='gray',\n",
    "    )\n",
    "    ax.set_title(\"Image \"+str(i))\n",
    "    ax.axis(\"off\")\n",
    "    ax.set_xlabel(\"\")"
   ]
  }
 ],
 "metadata": {
  "kernelspec": {
   "display_name": "empiarreader",
   "language": "python",
   "name": "python3"
  },
  "language_info": {
   "codemirror_mode": {
    "name": "ipython",
    "version": 3
   },
   "file_extension": ".py",
   "mimetype": "text/x-python",
   "name": "python",
   "nbconvert_exporter": "python",
   "pygments_lexer": "ipython3",
   "version": "3.10.11"
  }
 },
 "nbformat": 4,
 "nbformat_minor": 2
}
